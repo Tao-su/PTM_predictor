{
 "cells": [
  {
   "cell_type": "code",
   "execution_count": 3,
   "metadata": {},
   "outputs": [],
   "source": [
    "import mymodules\n",
    "import wos"
   ]
  },
  {
   "cell_type": "code",
   "execution_count": 4,
   "metadata": {},
   "outputs": [
    {
     "name": "stdout",
     "output_type": "stream",
     "text": [
      "Result:\n",
      "{'_id': '0040-5507', 'SO': ['THEATER HEUTE'], 'J9': ['THEATER HEUTE'], 'J1': ['THEAT HEUTE'], 'J2': ['THEATER HEUTE'], 'JI': ['Theater Heute'], 'issues': 470, 'fields': ['H YG THEATER']}\n",
      "{'_id': '0004-0428', 'SO': ['ARCHIVO ESPANOL DE ARTE'], 'J9': ['ARCH ESPAN ART'], 'J1': ['ARCH ESP AR'], 'J2': ['ARCH ESPAN ART'], 'JI': ['Arch. Esp. Arte'], 'issues': 165, 'fields': ['H BP ART']}\n",
      "{'_id': '0018-2281', 'SO': ['HISTORIA'], 'J9': ['HISTORIA'], 'J1': ['HISTORIA'], 'J2': ['HISTORIA'], 'JI': ['Historia'], 'issues': 509, 'fields': ['H MM HISTORY']}\n",
      "{'_id': '0024-8851', 'SO': ['MAATSTAF'], 'J9': ['MAATSTAF'], 'J1': ['MAATSTAF'], 'J2': ['MAATSTAF'], 'JI': ['Maatstaf'], 'issues': 166}\n",
      "{'_id': '0003-5769', 'SO': ['ANTIOCH REVIEW'], 'J9': ['ANTIOCH REV'], 'J1': ['ANTIOCH REV'], 'J2': ['ANTIOCH REV'], 'JI': ['Antioch Rev.'], 'issues': 168, 'fields': ['H OZ LITERARY REVIEWS']}\n",
      "{'_id': '0043-2199', 'SO': ['WEIMARER BEITRAGE'], 'J9': ['WEIMARER BEITR'], 'J1': ['WEIMARER B'], 'J2': ['WEIMARER BEITR'], 'JI': ['Weimarer Beitr.'], 'issues': 222, 'fields': ['H PA LITERATURE']}\n",
      "{'_id': '0040-5329', 'SO': ['TEXT & KRITIK'], 'J9': ['TEXT KRIT'], 'J1': ['TEXT KRIT'], 'J2': ['TEXT KRITIK'], 'JI': ['Text Krit.'], 'issues': 164, 'fields': ['H PH LITERATURE, GERMAN, DUTCH, SCANDINAVIAN']}\n",
      "{'_id': '0048-6493', 'SO': ['QUINZAINE LITTERAIRE'], 'J9': ['QUINZAINE LIT'], 'J1': ['QUINZ LIT'], 'J2': ['QUINZAINE LITTERAIRE'], 'JI': ['Quinz. Litt.'], 'issues': 914}\n",
      "{'_id': '0742-2822', 'SO': ['ECHOCARDIOGRAPHY-A JOURNAL OF CARDIOVASCULAR ULTRASOUND AND ALLIED TECHNIQUES'], 'J9': ['ECHOCARDIOGR-J CARDIOVASC ULT'], 'J1': ['ECHOCARDIOG'], 'J2': ['ECHOCARDIOGR-J CARD'], 'JI': ['Echocardiography-J. Cardiovasc. Ultrasound Allied Tech.', 'Echocardiogr.-J. Cardiovasc. Ultrasound Allied Techn.'], 'issues': 253, 'fields': ['D DQ CARDIAC & CARDIOVASCULAR SYSTEMS', 'MS DQ CARDIAC & CARDIOVASCULAR SYSTEM']}\n",
      "{'_id': '0015-6191', 'SO': ['FONTES ARTIS MUSICAE'], 'J9': ['FONT ART MUSIC'], 'J1': ['FON ART MUS'], 'J2': ['FONTES ARTIS MUSICAE'], 'JI': ['Fontes Artis Musicae'], 'issues': 159, 'fields': ['H RP MUSIC']}\n"
     ]
    }
   ],
   "source": [
    "conn = wos.WOSMongo(\"../conf/mongo_config.json\")\n",
    "print(\"Result:\")\n",
    "for row in conn.db.journals.find()[0:10]:\n",
    "    print(row)"
   ]
  }
 ],
 "metadata": {
  "kernelspec": {
   "display_name": "Python 3",
   "language": "python",
   "name": "python3"
  },
  "language_info": {
   "codemirror_mode": {
    "name": "ipython",
    "version": 3
   },
   "file_extension": ".py",
   "mimetype": "text/x-python",
   "name": "python",
   "nbconvert_exporter": "python",
   "pygments_lexer": "ipython3",
   "version": "3.6.4"
  }
 },
 "nbformat": 4,
 "nbformat_minor": 2
}
